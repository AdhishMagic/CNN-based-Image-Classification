{
 "cells": [
  {
   "cell_type": "markdown",
   "id": "0a6a0bce",
   "metadata": {},
   "source": [
    "# Importing the necessaary libraries"
   ]
  },
  {
   "cell_type": "markdown",
   "id": "16690f0b",
   "metadata": {},
   "source": [
    "# Loading and pre-processing of the CIFAR-10 dataset"
   ]
  },
  {
   "cell_type": "markdown",
   "id": "89b19f43",
   "metadata": {},
   "source": [
    "# Noramalizing pixel values to be between 0 to 1"
   ]
  },
  {
   "cell_type": "markdown",
   "id": "c0fa103e",
   "metadata": {},
   "source": [
    "# Defining the class names for CIFAR-10 images"
   ]
  },
  {
   "cell_type": "markdown",
   "id": "20a2c7af",
   "metadata": {},
   "source": [
    "# Visualizing a few training images from the CIFAR-10 dataset"
   ]
  },
  {
   "cell_type": "markdown",
   "id": "32326379",
   "metadata": {},
   "source": [
    "# Building the CNN model (customized model)"
   ]
  },
  {
   "cell_type": "markdown",
   "id": "b1ac436e",
   "metadata": {},
   "source": [
    "# Printing the model summary"
   ]
  },
  {
   "cell_type": "markdown",
   "id": "a6f249db",
   "metadata": {},
   "source": [
    "# Compiling the CNN model"
   ]
  },
  {
   "cell_type": "markdown",
   "id": "c34a0247",
   "metadata": {},
   "source": [
    "# Training the CNN model"
   ]
  },
  {
   "cell_type": "markdown",
   "id": "2f059626",
   "metadata": {},
   "source": [
    "# Evaluating the performance of the CNN model"
   ]
  },
  {
   "cell_type": "markdown",
   "id": "42121fce",
   "metadata": {},
   "source": [
    "# Plotting the training and validation accuracy and loss values"
   ]
  }
 ],
 "metadata": {
  "language_info": {
   "name": "python"
  }
 },
 "nbformat": 4,
 "nbformat_minor": 5
}
